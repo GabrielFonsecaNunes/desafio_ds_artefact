{
 "cells": [
  {
   "cell_type": "markdown",
   "metadata": {},
   "source": [
    "> Gabriel da Fonseca Nunes - Data Scientist Junior"
   ]
  },
  {
   "cell_type": "markdown",
   "metadata": {},
   "source": [
    "Problem 3: Regression Analysis\n",
    "A supermarket company has a new internal policy to not discriminate significantly salary according to the location of their employees. They gathered the data from all of their employees and want you to verify if they are already following the new policy.\n",
    "Before answering the questions below take a look at the annexed dataset: (1stPhase-SelectiveProcess-Data Science-Data Base.csv)\n"
   ]
  },
  {
   "cell_type": "markdown",
   "metadata": {},
   "source": [
    "a)\tQuestion: Describe how can you use the supermarket data to verify if employees from different locations have significantly different salaries ? (Include here how you are going to treat the variables before feeding into the model)"
   ]
  },
  {
   "cell_type": "markdown",
   "metadata": {},
   "source": [
    "b)\tQuestion: Implement the approach you described in python or r"
   ]
  },
  {
   "cell_type": "markdown",
   "metadata": {},
   "source": [
    "For this problem, if we only want to know if there is a statistically significant difference in salaries between the groups for the \"locations\" variable and the company is already following the new policy, we can take a simpler approach without needing to create a regression model. We can simply use the t-test to check if the \"locations\" variable has a statistical difference in employee salaries (this method compares the distribution between the mean values in the groups). If there is a significant statistical difference, we can then create a regression model to better understand the contribution of the \"locations\" variable to employee salaries.\n",
    "\n",
    "1) Firstly, we need to determine the type of \"locations\" variable. I will use a method to infer the variable type."
   ]
  },
  {
   "cell_type": "code",
   "execution_count": 20,
   "metadata": {},
   "outputs": [],
   "source": [
    "# Analize \n",
    "import pandas as pd\n",
    "import numpy as np\n",
    "from scipy.stats import ttest_ind\n",
    "\n",
    "# Feature Engeinnering \n",
    "from sklearn.pipeline import Pipeline\n",
    "from sklearn.compose import ColumnTransformer\n",
    "from sklearn.preprocessing import (\n",
    "    StandardScaler, \n",
    "    OneHotEncoder, \n",
    "    TargetEncoder\n",
    ")\n",
    "\n",
    "# Models\n",
    "from sklearn.ensemble import RandomForestRegressor\n",
    "from sklearn.linear_model import LinearRegression\n",
    "from sklearn.linear_model import ElasticNet\n",
    "\n",
    "# Evaluate models \n",
    "from sklearn.metrics import mean_squared_error, r2_score\n",
    "from sklearn.model_selection import cross_val_score\n",
    "\n",
    "# Shap values\n",
    "import shap\n",
    "\n",
    "# Divisão dados de treinamento e teste\n",
    "from sklearn.model_selection import train_test_split as tt_split\n",
    "\n",
    "dataset = pd.read_excel(\"./data/1st_Phase_-_Selective_Process_-_Data_Science_-_DataBase.xlsx\", engine='openpyxl')\n",
    "\n",
    "# Removendo a coluna ID\n",
    "dataset.drop(\"ID\", axis=1, inplace= True)"
   ]
  },
  {
   "cell_type": "code",
   "execution_count": 2,
   "metadata": {},
   "outputs": [
    {
     "name": "stdout",
     "output_type": "stream",
     "text": [
      "<class 'pandas.core.frame.DataFrame'>\n",
      "RangeIndex: 80 entries, 0 to 79\n",
      "Data columns (total 6 columns):\n",
      " #   Column          Non-Null Count  Dtype  \n",
      "---  ------          --------------  -----  \n",
      " 0   EDUCAÇÃO        80 non-null     object \n",
      " 1   CARGO           80 non-null     object \n",
      " 2   LOCAL           80 non-null     object \n",
      " 3   IDADE           80 non-null     int64  \n",
      " 4   TEMPOCASA       80 non-null     int64  \n",
      " 5   SALARIO_MENSAL  80 non-null     float64\n",
      "dtypes: float64(1), int64(2), object(3)\n",
      "memory usage: 3.9+ KB\n"
     ]
    }
   ],
   "source": [
    "dataset.info()"
   ]
  },
  {
   "cell_type": "code",
   "execution_count": 3,
   "metadata": {},
   "outputs": [
    {
     "data": {
      "text/html": [
       "<div>\n",
       "<style scoped>\n",
       "    .dataframe tbody tr th:only-of-type {\n",
       "        vertical-align: middle;\n",
       "    }\n",
       "\n",
       "    .dataframe tbody tr th {\n",
       "        vertical-align: top;\n",
       "    }\n",
       "\n",
       "    .dataframe thead th {\n",
       "        text-align: right;\n",
       "    }\n",
       "</style>\n",
       "<table border=\"1\" class=\"dataframe\">\n",
       "  <thead>\n",
       "    <tr style=\"text-align: right;\">\n",
       "      <th></th>\n",
       "      <th>Variable</th>\n",
       "      <th>Type</th>\n",
       "    </tr>\n",
       "  </thead>\n",
       "  <tbody>\n",
       "    <tr>\n",
       "      <th>0</th>\n",
       "      <td>EDUCAÇÃO</td>\n",
       "      <td>Categorical</td>\n",
       "    </tr>\n",
       "    <tr>\n",
       "      <th>1</th>\n",
       "      <td>CARGO</td>\n",
       "      <td>Categorical</td>\n",
       "    </tr>\n",
       "    <tr>\n",
       "      <th>2</th>\n",
       "      <td>LOCAL</td>\n",
       "      <td>Categorical</td>\n",
       "    </tr>\n",
       "    <tr>\n",
       "      <th>3</th>\n",
       "      <td>IDADE</td>\n",
       "      <td>Numerical</td>\n",
       "    </tr>\n",
       "    <tr>\n",
       "      <th>4</th>\n",
       "      <td>TEMPOCASA</td>\n",
       "      <td>Numerical</td>\n",
       "    </tr>\n",
       "    <tr>\n",
       "      <th>5</th>\n",
       "      <td>SALARIO_MENSAL</td>\n",
       "      <td>Numerical</td>\n",
       "    </tr>\n",
       "  </tbody>\n",
       "</table>\n",
       "</div>"
      ],
      "text/plain": [
       "         Variable         Type\n",
       "0        EDUCAÇÃO  Categorical\n",
       "1           CARGO  Categorical\n",
       "2           LOCAL  Categorical\n",
       "3           IDADE    Numerical\n",
       "4       TEMPOCASA    Numerical\n",
       "5  SALARIO_MENSAL    Numerical"
      ]
     },
     "metadata": {},
     "output_type": "display_data"
    }
   ],
   "source": [
    "def infer_variable_type(dataset):\n",
    "    \"\"\"\n",
    "    Args:\n",
    "        dataset (pd.DataFrame): It's a dataset\n",
    "    \"\"\"\n",
    "    types = []\n",
    "    \n",
    "    for column in dataset.columns:\n",
    "        unique_vals = dataset[column].unique()\n",
    "        if dataset[column].dtype == 'object' or len(unique_vals) < len(dataset) * 0.05:\n",
    "            types.append((column, 'Categorical'))\n",
    "        else:\n",
    "            types.append((column, 'Numerical'))\n",
    "    \n",
    "    return pd.DataFrame(types, columns=['Variable', 'Type'])\n",
    "\n",
    "# Example usage:\n",
    "# Assuming 'dataset' is the DataFrame containing the dataset\n",
    "variable_types = infer_variable_type(dataset)\n",
    "display(variable_types)\n"
   ]
  },
  {
   "cell_type": "code",
   "execution_count": 4,
   "metadata": {},
   "outputs": [
    {
     "data": {
      "text/plain": [
       "array(['INTERIOR', 'CAPITAL'], dtype=object)"
      ]
     },
     "execution_count": 4,
     "metadata": {},
     "output_type": "execute_result"
    }
   ],
   "source": [
    "unique_locals = dataset['LOCAL'].unique()\n",
    "unique_locals"
   ]
  },
  {
   "cell_type": "code",
   "execution_count": 5,
   "metadata": {},
   "outputs": [
    {
     "name": "stdout",
     "output_type": "stream",
     "text": [
      "t-test Statistic: -2.969717893005732\n",
      "p-value: 0.003959288437224028\n",
      "There is a statistically significant difference between the groups of the variable LOCAL and SALARIO_MENSAL.\n"
     ]
    },
    {
     "data": {
      "text/plain": [
       "True"
      ]
     },
     "execution_count": 5,
     "metadata": {},
     "output_type": "execute_result"
    }
   ],
   "source": [
    "def eval_test_t_student(dataset, feature, target):\n",
    "    \"\"\"\n",
    "    This method applies the t-test method.\n",
    "    Args:\n",
    "        dataset: DataFrame containing the data.\n",
    "        feature: Name of the feature/column to compare groups.\n",
    "        target: Name of the target variable.\n",
    "    \"\"\"\n",
    "    # Splitting the DataFrame into two groups based on the feature\n",
    "    unique_values = dataset[feature].unique()\n",
    "    samples_by_group = [dataset[dataset[feature] == unique_value][target] for unique_value in unique_values]\n",
    "\n",
    "    # Performing the t-test\n",
    "    t_statistic, p_value = ttest_ind(*samples_by_group)\n",
    "\n",
    "    # Printing the results\n",
    "    print(\"t-test Statistic:\", t_statistic)\n",
    "    print(\"p-value:\", p_value)\n",
    "\n",
    "    # Conclusion based on the p-value\n",
    "    if p_value < 0.05:\n",
    "        print(f\"There is a statistically significant difference between the groups of the variable {feature} and {target}.\")\n",
    "        return True\n",
    "    else:\n",
    "        print(f\"There is no statistically significant difference between the groups of the variable {feature} and {target}.\")\n",
    "        return False\n",
    "\n",
    "# Example usage:\n",
    "# Assuming 'dataset' is the DataFrame containing the dataset\n",
    "eval_test_t_student(dataset, \"LOCAL\", \"SALARIO_MENSAL\")"
   ]
  },
  {
   "cell_type": "code",
   "execution_count": 6,
   "metadata": {},
   "outputs": [],
   "source": [
    "# Renomeando 'SALARIO_MENSAL' : 'TARGET'\n",
    "dataset.rename(columns={'SALARIO_MENSAL': 'TARGET'}, inplace= True)\n",
    "\n",
    "# Divindo dataset entre features e target\n",
    "y = dataset[\"TARGET\"].copy()\n",
    "X = dataset.loc[:, [col for col in dataset.columns if col != \"TARGET\"]].copy()\n",
    "X_train, X_test, y_train, y_test = tt_split(X, y, test_size=0.3, random_state=42)"
   ]
  },
  {
   "cell_type": "code",
   "execution_count": 7,
   "metadata": {},
   "outputs": [],
   "source": [
    "# Define as colunas numéricas e categóricas\n",
    "numeric_features = [col for col in dataset.columns if dataset[col].dtype != 'O' and col != \"TARGET\"]\n",
    "categorical_features = [col for col in dataset.columns if dataset[col].dtype == 'O' and col != \"TARGET\"]\n",
    "\n",
    "# Define a pipeline para variáveis categoricas\n",
    "categorical_pipeline = Pipeline(steps=[\n",
    "    ('target_encoder', TargetEncoder())\n",
    "])\n",
    "\n",
    "# Define a pipeline para padronização\n",
    "numeric_pipeline = Pipeline(steps=[\n",
    "    ('scaler', StandardScaler())\n",
    "])\n",
    "\n",
    "# Combinando os pipelines para todas as colunas\n",
    "preprocessor = ColumnTransformer(\n",
    "    transformers=[\n",
    "        ('cat', categorical_pipeline, categorical_features),\n",
    "        ('num', numeric_pipeline, numeric_features)\n",
    "])\n",
    "\n",
    "# Transformando os dados de treino e teste\n",
    "X_train_transformed = preprocessor.fit_transform(X_train, y_train)\n",
    "X_test_transformed = preprocessor.transform(X_test)\n",
    "\n",
    "# Transformando os dados de treino e teste para DataFrame\n",
    "X_train_transformed_df = pd.DataFrame(X_train_transformed, columns=categorical_features + numeric_features)\n",
    "X_test_transformed_df = pd.DataFrame(X_test_transformed, columns=categorical_features + numeric_features)\n",
    "\n",
    "# Concatenando X_train_transformed e X_train_transformed\n",
    "X_transformed_df = pd.concat([X_train_transformed_df, X_test_transformed_df])\n",
    "X_transformed = X_transformed_df.values"
   ]
  },
  {
   "cell_type": "code",
   "execution_count": 8,
   "metadata": {},
   "outputs": [
    {
     "data": {
      "text/html": [
       "<div>\n",
       "<style scoped>\n",
       "    .dataframe tbody tr th:only-of-type {\n",
       "        vertical-align: middle;\n",
       "    }\n",
       "\n",
       "    .dataframe tbody tr th {\n",
       "        vertical-align: top;\n",
       "    }\n",
       "\n",
       "    .dataframe thead th {\n",
       "        text-align: right;\n",
       "    }\n",
       "</style>\n",
       "<table border=\"1\" class=\"dataframe\">\n",
       "  <thead>\n",
       "    <tr style=\"text-align: right;\">\n",
       "      <th></th>\n",
       "      <th>EDUCAÇÃO</th>\n",
       "      <th>CARGO</th>\n",
       "      <th>LOCAL</th>\n",
       "      <th>IDADE</th>\n",
       "      <th>TEMPOCASA</th>\n",
       "    </tr>\n",
       "  </thead>\n",
       "  <tbody>\n",
       "    <tr>\n",
       "      <th>0</th>\n",
       "      <td>5752.366002</td>\n",
       "      <td>5748.085017</td>\n",
       "      <td>5863.034245</td>\n",
       "      <td>-0.344993</td>\n",
       "      <td>-1.116322</td>\n",
       "    </tr>\n",
       "    <tr>\n",
       "      <th>1</th>\n",
       "      <td>5752.366002</td>\n",
       "      <td>5386.860660</td>\n",
       "      <td>5863.034245</td>\n",
       "      <td>0.791455</td>\n",
       "      <td>0.697701</td>\n",
       "    </tr>\n",
       "    <tr>\n",
       "      <th>2</th>\n",
       "      <td>5766.335790</td>\n",
       "      <td>5746.996529</td>\n",
       "      <td>5517.534793</td>\n",
       "      <td>-0.035053</td>\n",
       "      <td>-0.976782</td>\n",
       "    </tr>\n",
       "    <tr>\n",
       "      <th>3</th>\n",
       "      <td>5780.446679</td>\n",
       "      <td>5729.940354</td>\n",
       "      <td>5416.877845</td>\n",
       "      <td>0.378201</td>\n",
       "      <td>1.116322</td>\n",
       "    </tr>\n",
       "    <tr>\n",
       "      <th>4</th>\n",
       "      <td>5766.335790</td>\n",
       "      <td>5746.996529</td>\n",
       "      <td>5517.534793</td>\n",
       "      <td>-0.861561</td>\n",
       "      <td>-0.837242</td>\n",
       "    </tr>\n",
       "    <tr>\n",
       "      <th>...</th>\n",
       "      <td>...</td>\n",
       "      <td>...</td>\n",
       "      <td>...</td>\n",
       "      <td>...</td>\n",
       "      <td>...</td>\n",
       "    </tr>\n",
       "    <tr>\n",
       "      <th>19</th>\n",
       "      <td>5351.384956</td>\n",
       "      <td>5433.512781</td>\n",
       "      <td>5942.174691</td>\n",
       "      <td>-0.138366</td>\n",
       "      <td>0.558161</td>\n",
       "    </tr>\n",
       "    <tr>\n",
       "      <th>20</th>\n",
       "      <td>5351.384956</td>\n",
       "      <td>5760.122816</td>\n",
       "      <td>5942.174691</td>\n",
       "      <td>-1.274814</td>\n",
       "      <td>-0.418621</td>\n",
       "    </tr>\n",
       "    <tr>\n",
       "      <th>21</th>\n",
       "      <td>5811.291975</td>\n",
       "      <td>6617.209148</td>\n",
       "      <td>5942.174691</td>\n",
       "      <td>0.894768</td>\n",
       "      <td>0.697701</td>\n",
       "    </tr>\n",
       "    <tr>\n",
       "      <th>22</th>\n",
       "      <td>5811.291975</td>\n",
       "      <td>5433.512781</td>\n",
       "      <td>5492.180458</td>\n",
       "      <td>-1.378128</td>\n",
       "      <td>-1.395403</td>\n",
       "    </tr>\n",
       "    <tr>\n",
       "      <th>23</th>\n",
       "      <td>5811.291975</td>\n",
       "      <td>5433.512781</td>\n",
       "      <td>5492.180458</td>\n",
       "      <td>0.068261</td>\n",
       "      <td>0.697701</td>\n",
       "    </tr>\n",
       "  </tbody>\n",
       "</table>\n",
       "<p>80 rows × 5 columns</p>\n",
       "</div>"
      ],
      "text/plain": [
       "       EDUCAÇÃO        CARGO        LOCAL     IDADE  TEMPOCASA\n",
       "0   5752.366002  5748.085017  5863.034245 -0.344993  -1.116322\n",
       "1   5752.366002  5386.860660  5863.034245  0.791455   0.697701\n",
       "2   5766.335790  5746.996529  5517.534793 -0.035053  -0.976782\n",
       "3   5780.446679  5729.940354  5416.877845  0.378201   1.116322\n",
       "4   5766.335790  5746.996529  5517.534793 -0.861561  -0.837242\n",
       "..          ...          ...          ...       ...        ...\n",
       "19  5351.384956  5433.512781  5942.174691 -0.138366   0.558161\n",
       "20  5351.384956  5760.122816  5942.174691 -1.274814  -0.418621\n",
       "21  5811.291975  6617.209148  5942.174691  0.894768   0.697701\n",
       "22  5811.291975  5433.512781  5492.180458 -1.378128  -1.395403\n",
       "23  5811.291975  5433.512781  5492.180458  0.068261   0.697701\n",
       "\n",
       "[80 rows x 5 columns]"
      ]
     },
     "execution_count": 8,
     "metadata": {},
     "output_type": "execute_result"
    }
   ],
   "source": [
    "X_transformed_df"
   ]
  },
  {
   "cell_type": "code",
   "execution_count": 9,
   "metadata": {},
   "outputs": [],
   "source": [
    "# Renomeando 'SALARIO_MENSAL' : 'TARGET'\n",
    "dataset.rename(columns={'SALARIO_MENSAL': 'TARGET'}, inplace= True)\n",
    "\n",
    "# Divindo dataset entre features e target\n",
    "y = dataset[\"TARGET\"].copy()\n",
    "X = dataset.loc[:, [col for col in dataset.columns if col != \"TARGET\"]].copy()\n",
    "X_train, X_test, y_train, y_test = tt_split(X, y, test_size=0.3, random_state=42)"
   ]
  },
  {
   "cell_type": "code",
   "execution_count": 12,
   "metadata": {},
   "outputs": [
    {
     "data": {
      "text/plain": [
       "array([ 961.04584368,  858.34228733, 2104.44562517])"
      ]
     },
     "execution_count": 12,
     "metadata": {},
     "output_type": "execute_result"
    }
   ],
   "source": [
    "# Instanciando modelo\n",
    "model = RandomForestRegressor(n_estimators= 10, n_jobs=-1)\n",
    "\n",
    "# Realizando a validação cruzada com 3 folds\n",
    "scores = cross_val_score(model, X_transformed, y, cv=3, scoring='neg_mean_squared_error')\n",
    "\n",
    "# Convertendo os scores de erro para RMSE\n",
    "rmse_scores = np.sqrt(-scores)\n",
    "rmse_scores"
   ]
  },
  {
   "cell_type": "code",
   "execution_count": 15,
   "metadata": {},
   "outputs": [
    {
     "data": {
      "image/png": "[encoded data removed]",
      "text/plain": [
       "<Figure size 800x350 with 1 Axes>"
      ]
     },
     "metadata": {},
     "output_type": "display_data"
    }
   ],
   "source": [
    "# Train Model\n",
    "model.fit(X_train_transformed_df, y_train)\n",
    "\n",
    "#\n",
    "def plot_shap_values(model, X):\n",
    "    # Criando o objeto explainer SHAP\n",
    "    explainer = shap.TreeExplainer(model)\n",
    "    \n",
    "    # Calculando os SHAP values\n",
    "    shap_values = explainer.shap_values(X)\n",
    "    \n",
    "    # Plotando o gráfico dos SHAP values\n",
    "    shap.summary_plot(shap_values, X, plot_type=\"bar\")\n",
    "\n",
    "plot_shap_values(model, X_train_transformed_df)"
   ]
  }
 ],
 "metadata": {
  "kernelspec": {
   "display_name": "Python 3",
   "language": "python",
   "name": "python3"
  },
  "language_info": {
   "codemirror_mode": {
    "name": "ipython",
    "version": 3
   },
   "file_extension": ".py",
   "mimetype": "text/x-python",
   "name": "python",
   "nbconvert_exporter": "python",
   "pygments_lexer": "ipython3",
   "version": "3.11.4"
  }
 },
 "nbformat": 4,
 "nbformat_minor": 2
}

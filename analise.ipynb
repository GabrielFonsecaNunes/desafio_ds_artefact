{
 "cells": [
  {
   "cell_type": "code",
   "execution_count": 5,
   "metadata": {},
   "outputs": [],
   "source": [
    "import pandas as pd\n",
    "import numpy as np\n",
    "from scipy.stats import ttest_ind\n",
    "\n",
    "df = pd.read_excel(\"./data/1st_Phase_-_Selective_Process_-_Data_Science_-_DataBase.xlsx\")"
   ]
  },
  {
   "cell_type": "code",
   "execution_count": 7,
   "metadata": {},
   "outputs": [
    {
     "name": "stdout",
     "output_type": "stream",
     "text": [
      "<class 'pandas.core.frame.DataFrame'>\n",
      "RangeIndex: 80 entries, 0 to 79\n",
      "Data columns (total 7 columns):\n",
      " #   Column          Non-Null Count  Dtype  \n",
      "---  ------          --------------  -----  \n",
      " 0   ID              80 non-null     int64  \n",
      " 1   EDUCAÇÃO        80 non-null     object \n",
      " 2   CARGO           80 non-null     object \n",
      " 3   LOCAL           80 non-null     object \n",
      " 4   IDADE           80 non-null     int64  \n",
      " 5   TEMPOCASA       80 non-null     int64  \n",
      " 6   SALARIO_MENSAL  80 non-null     float64\n",
      "dtypes: float64(1), int64(3), object(3)\n",
      "memory usage: 4.5+ KB\n"
     ]
    }
   ],
   "source": [
    "df.info()"
   ]
  },
  {
   "cell_type": "code",
   "execution_count": 6,
   "metadata": {},
   "outputs": [
    {
     "data": {
      "text/html": [
       "<div>\n",
       "<style scoped>\n",
       "    .dataframe tbody tr th:only-of-type {\n",
       "        vertical-align: middle;\n",
       "    }\n",
       "\n",
       "    .dataframe tbody tr th {\n",
       "        vertical-align: top;\n",
       "    }\n",
       "\n",
       "    .dataframe thead th {\n",
       "        text-align: right;\n",
       "    }\n",
       "</style>\n",
       "<table border=\"1\" class=\"dataframe\">\n",
       "  <thead>\n",
       "    <tr style=\"text-align: right;\">\n",
       "      <th></th>\n",
       "      <th>Variável</th>\n",
       "      <th>Tipo</th>\n",
       "    </tr>\n",
       "  </thead>\n",
       "  <tbody>\n",
       "    <tr>\n",
       "      <th>0</th>\n",
       "      <td>ID</td>\n",
       "      <td>Numérica</td>\n",
       "    </tr>\n",
       "    <tr>\n",
       "      <th>1</th>\n",
       "      <td>EDUCAÇÃO</td>\n",
       "      <td>Categórica</td>\n",
       "    </tr>\n",
       "    <tr>\n",
       "      <th>2</th>\n",
       "      <td>CARGO</td>\n",
       "      <td>Categórica</td>\n",
       "    </tr>\n",
       "    <tr>\n",
       "      <th>3</th>\n",
       "      <td>LOCAL</td>\n",
       "      <td>Categórica</td>\n",
       "    </tr>\n",
       "    <tr>\n",
       "      <th>4</th>\n",
       "      <td>IDADE</td>\n",
       "      <td>Numérica</td>\n",
       "    </tr>\n",
       "    <tr>\n",
       "      <th>5</th>\n",
       "      <td>TEMPOCASA</td>\n",
       "      <td>Numérica</td>\n",
       "    </tr>\n",
       "    <tr>\n",
       "      <th>6</th>\n",
       "      <td>SALARIO_MENSAL</td>\n",
       "      <td>Numérica</td>\n",
       "    </tr>\n",
       "  </tbody>\n",
       "</table>\n",
       "</div>"
      ],
      "text/plain": [
       "         Variável        Tipo\n",
       "0              ID    Numérica\n",
       "1        EDUCAÇÃO  Categórica\n",
       "2           CARGO  Categórica\n",
       "3           LOCAL  Categórica\n",
       "4           IDADE    Numérica\n",
       "5       TEMPOCASA    Numérica\n",
       "6  SALARIO_MENSAL    Numérica"
      ]
     },
     "execution_count": 6,
     "metadata": {},
     "output_type": "execute_result"
    }
   ],
   "source": [
    "def inferir_tipo_variavel(dataset):\n",
    "    \"\"\"\n",
    "    Args:\n",
    "        dataset (pd.DataFrame): É um dataset em formato de dataframe \n",
    "    \"\"\"\n",
    "    tipos = []\n",
    "    \n",
    "    for coluna in dataset.columns:\n",
    "        unique_vals = df[coluna].unique()\n",
    "        if dataset[coluna].dtype == 'object' or len(unique_vals) < len(dataset) * 0.05:\n",
    "            tipos.append((coluna, 'Categórica'))\n",
    "        else:\n",
    "            tipos.append((coluna, 'Numérica'))\n",
    "    \n",
    "    return pd.DataFrame(tipos, columns=['Variável', 'Tipo'])\n",
    "\n",
    "inferir_tipo_variavel(df)"
   ]
  },
  {
   "cell_type": "code",
   "execution_count": 8,
   "metadata": {},
   "outputs": [
    {
     "name": "stdout",
     "output_type": "stream",
     "text": [
      "Estatística do teste t: 2.969717893005732\n",
      "Valor p: 0.003959288437224028\n",
      "Há uma diferença estatisticamente significativa nos salários entre os grupos.\n"
     ]
    }
   ],
   "source": [
    "# Dividindo o DataFrame em dois grupos com base no local de estudo\n",
    "salarios_capital = df[df['LOCAL'] == 'CAPITAL']['SALARIO_MENSAL']\n",
    "salarios_interior = df[df['LOCAL'] == 'INTERIOR']['SALARIO_MENSAL']\n",
    "\n",
    "# Realizando o teste t de Student\n",
    "t_statistic, p_value = ttest_ind(salarios_capital, salarios_interior)\n",
    "\n",
    "# Imprimindo os resultados\n",
    "print(\"Estatística do teste t:\", t_statistic)\n",
    "print(\"Valor p:\", p_value)\n",
    "\n",
    "# Conclusão com base no valor p\n",
    "if p_value < 0.05:\n",
    "    print(\"Há uma diferença estatisticamente significativa nos salários entre os grupos.\")\n",
    "else:\n",
    "    print(\"Não há uma diferença estatisticamente significativa nos salários entre os grupos.\")"
   ]
  },
  {
   "cell_type": "code",
   "execution_count": null,
   "metadata": {},
   "outputs": [],
   "source": []
  }
 ],
 "metadata": {
  "kernelspec": {
   "display_name": "Python 3",
   "language": "python",
   "name": "python3"
  },
  "language_info": {
   "codemirror_mode": {
    "name": "ipython",
    "version": 3
   },
   "file_extension": ".py",
   "mimetype": "text/x-python",
   "name": "python",
   "nbconvert_exporter": "python",
   "pygments_lexer": "ipython3",
   "version": "3.10.12"
  }
 },
 "nbformat": 4,
 "nbformat_minor": 2
}
